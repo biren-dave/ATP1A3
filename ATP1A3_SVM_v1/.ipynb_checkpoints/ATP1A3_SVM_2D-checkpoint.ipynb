{
 "cells": [
  {
   "cell_type": "code",
   "execution_count": 4,
   "metadata": {},
   "outputs": [],
   "source": [
    "import csv\n",
    "\n",
    "variant_data = []\n",
    "feature_vectors = []\n",
    "\n",
    "with open(\"ATP1A3_variants_2D.csv\", \"r\") as fh:\n",
    "    for row in csv.reader(fh):\n",
    "        variant_data.append(row)\n",
    "        \n",
    "domains = {\"cation_ATPase_N\": 1,\n",
    "           \"E1-E2_ATPase\": 2,\n",
    "           \"cation_ATPase\": 3,\n",
    "           \"cation_ATPase_C\": 4,\n",
    "           \"unannotated\": 5}\n",
    "\n",
    "def provean_sift_pred(p_score, s_score):\n",
    "    if (p_score < -2.5) and (s_score > 0.05):\n",
    "        return 2\n",
    "    elif (p_score < -2.5) or (s_score > 0.05):\n",
    "        return 1\n",
    "    elif (p_score > -2.5) and (s_score < 0.05):\n",
    "        return 0"
   ]
  },
  {
   "cell_type": "code",
   "execution_count": null,
   "metadata": {},
   "outputs": [],
   "source": []
  }
 ],
 "metadata": {
  "kernelspec": {
   "display_name": "Python 3",
   "language": "python",
   "name": "python3"
  },
  "language_info": {
   "codemirror_mode": {
    "name": "ipython",
    "version": 3
   },
   "file_extension": ".py",
   "mimetype": "text/x-python",
   "name": "python",
   "nbconvert_exporter": "python",
   "pygments_lexer": "ipython3",
   "version": "3.6.4"
  }
 },
 "nbformat": 4,
 "nbformat_minor": 2
}
