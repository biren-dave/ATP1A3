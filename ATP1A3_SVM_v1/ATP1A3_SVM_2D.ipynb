{
 "cells": [
  {
   "cell_type": "code",
   "execution_count": 38,
   "metadata": {},
   "outputs": [],
   "source": [
    "import csv\n",
    "\n",
    "variant_data = []\n",
    "feature_vectors = []\n",
    "diseases = []\n",
    "\n",
    "with open(\"ATP1A3_variants_2D.csv\", \"r\") as fh:\n",
    "    for row in csv.reader(fh):\n",
    "        variant_data.append(row)\n",
    "        \n",
    "domains = {\"cation_ATPase_N\": 1,\n",
    "           \"E1-E2_ATPase\": 2,\n",
    "           \"cation_ATPase\": 3,\n",
    "           \"cation_ATPase_C\": 4,\n",
    "           \"unannotated domain\": 5}\n",
    "\n",
    "disease_codes = {\"DD\": 1,\n",
    "                 \"AHC\": 2,\n",
    "                 \"RDP + AHC\": 3,\n",
    "                 \"CAPOS\": 4,\n",
    "                 \"RDP\": 5,\n",
    "                 \"Catastrophic Early Life Epilepsy\": 6,\n",
    "                 \"Epilepsy and recurrent apnea\": 7,\n",
    "                 \"RDP + AHC + CAPOS\": 8,\n",
    "                 \"Childhood-onset schizophrenia\": 9}\n",
    "\n",
    "def provean_sift_pred(p_score, s_score):\n",
    "    if (p_score < -2.5) and (s_score > 0.05):\n",
    "        return 2\n",
    "    elif (p_score < -2.5) or (s_score > 0.05):\n",
    "        return 1\n",
    "    elif (p_score > -2.5) and (s_score < 0.05):\n",
    "        return 0\n",
    "\n",
    "for variant in variant_data:\n",
    "    #dom = domains[variant[0]]\n",
    "    pos = int(variant[0])\n",
    "    #in_sil = provean_sift_pred(float(variant[1]), float(variant[2]))\n",
    "    in_sil = float(variant[1])\n",
    "    disease = variant[3]\n",
    "    \n",
    "    feature_vectors.append([pos, in_sil])\n",
    "    diseases.append(disease_codes[disease])"
   ]
  },
  {
   "cell_type": "code",
   "execution_count": 39,
   "metadata": {},
   "outputs": [
    {
     "data": {
      "text/plain": [
       "SVC(C=0.5, cache_size=200, class_weight=None, coef0=0.0,\n",
       "  decision_function_shape='ovr', degree=3, gamma='auto', kernel='rbf',\n",
       "  max_iter=-1, probability=False, random_state=None, shrinking=True,\n",
       "  tol=0.001, verbose=False)"
      ]
     },
     "execution_count": 39,
     "metadata": {},
     "output_type": "execute_result"
    }
   ],
   "source": [
    "from sklearn import svm\n",
    "\n",
    "X = feature_vectors\n",
    "y = diseases\n",
    "\n",
    "clf = svm.SVC(C=0.5)\n",
    "clf.fit(X, y)"
   ]
  },
  {
   "cell_type": "code",
   "execution_count": 41,
   "metadata": {},
   "outputs": [
    {
     "data": {
      "image/png": "[encoded data removed]",
      "text/plain": [
       "<matplotlib.figure.Figure at 0x7f677e629f60>"
      ]
     },
     "metadata": {},
     "output_type": "display_data"
    }
   ],
   "source": [
    "%matplotlib inline\n",
    "\n",
    "from mlxtend.plotting import plot_decision_regions\n",
    "import matplotlib.pyplot as plt\n",
    "import numpy as np\n",
    "\n",
    "\n",
    "plot_decision_regions(np.array(X), np.array(y), clf=clf)\n",
    "plt.xlabel(\"amino acid position\")\n",
    "plt.ylabel(\"provean score\")\n",
    "#plt.title('SVM on Iris')\n",
    "plt.show()"
   ]
  },
  {
   "cell_type": "code",
   "execution_count": 42,
   "metadata": {},
   "outputs": [
    {
     "data": {
      "text/plain": [
       "0.9166666666666666"
      ]
     },
     "execution_count": 42,
     "metadata": {},
     "output_type": "execute_result"
    }
   ],
   "source": [
    "clf.score(X, y)"
   ]
  },
  {
   "cell_type": "code",
   "execution_count": null,
   "metadata": {},
   "outputs": [],
   "source": []
  }
 ],
 "metadata": {
  "kernelspec": {
   "display_name": "Python 3",
   "language": "python",
   "name": "python3"
  },
  "language_info": {
   "codemirror_mode": {
    "name": "ipython",
    "version": 3
   },
   "file_extension": ".py",
   "mimetype": "text/x-python",
   "name": "python",
   "nbconvert_exporter": "python",
   "pygments_lexer": "ipython3",
   "version": "3.6.4"
  }
 },
 "nbformat": 4,
 "nbformat_minor": 2
}
