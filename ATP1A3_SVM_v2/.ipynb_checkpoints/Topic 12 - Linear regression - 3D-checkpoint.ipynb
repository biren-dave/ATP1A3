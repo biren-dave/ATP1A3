{
 "cells": [
  {
   "cell_type": "markdown",
   "metadata": {},
   "source": [
    "## Step 1: Obtain data by generating randomly"
   ]
  },
  {
   "cell_type": "code",
   "execution_count": null,
   "metadata": {},
   "outputs": [],
   "source": [
    "import random\n",
    "\n",
    "def generate_sample_data_3d(coeff1, coeff2, num_samples = 40, x3_spread = 30.0):\n",
    "    data = []\n",
    "    for x1 in range(0, num_samples):\n",
    "        for x2 in range(0, num_samples):\n",
    "            x3 = round(coeff1 * x1 + coeff2 * x2 + x3_spread * (random.random() - 0.5), 2)\n",
    "            data.append((x1, x2, x3))\n",
    "    return data"
   ]
  },
  {
   "cell_type": "code",
   "execution_count": null,
   "metadata": {},
   "outputs": [],
   "source": [
    "coeff1 = random.uniform(1.0, 2.0)\n",
    "coeff2 = random.uniform(1.0, 2.0)\n",
    "print(\"Coefficients during generation: \", (coeff1, coeff2))\n",
    "data = generate_sample_data_3d(coeff1, coeff2)"
   ]
  },
  {
   "cell_type": "markdown",
   "metadata": {},
   "source": [
    "## Step 2: Divide the data into two sets: a training set and a testing set"
   ]
  },
  {
   "cell_type": "code",
   "execution_count": null,
   "metadata": {},
   "outputs": [],
   "source": [
    "def split_training_test(data, proportion_train = 0.5):\n",
    "    indices = random.sample(range(len(data)), int(proportion_train * len(data)))\n",
    "    train = []\n",
    "    test = []\n",
    "    for i in range(len(data)): \n",
    "        if i in indices: train.append(data[i])\n",
    "        else: test.append(data[i])\n",
    "    return (train, test)"
   ]
  },
  {
   "cell_type": "code",
   "execution_count": null,
   "metadata": {},
   "outputs": [],
   "source": [
    "(data_train, data_test) = split_training_test(data)\n",
    "print(data_train)\n",
    "print(data_test)"
   ]
  },
  {
   "cell_type": "code",
   "execution_count": null,
   "metadata": {},
   "outputs": [],
   "source": [
    "%matplotlib nbagg\n",
    "import matplotlib.pyplot as pyplot\n",
    "from mpl_toolkits.mplot3d import Axes3D\n",
    "\n",
    "x_train = [p[:-1] for p in data_train]\n",
    "x3_train = [p[-1] for p in data_train]\n",
    "\n",
    "fig = pyplot.figure(1)\n",
    "ax = Axes3D(fig)\n",
    "\n",
    "x1_train = [p[0] for p in data_train]\n",
    "x2_train = [p[1] for p in data_train]\n",
    "ax.scatter(x1_train, x2_train, x3_train)\n",
    "fig.show()"
   ]
  },
  {
   "cell_type": "markdown",
   "metadata": {},
   "source": [
    "## Step 3: Run linear regression on training data"
   ]
  },
  {
   "cell_type": "code",
   "execution_count": null,
   "metadata": {},
   "outputs": [],
   "source": [
    "from sklearn import linear_model\n",
    "\n",
    "regr = linear_model.LinearRegression()\n",
    "regr.fit(x_train, x3_train)\n",
    "\n",
    "print('Estimated coefficient: ', regr.coef_)\n",
    "print('Estimated intercept:   ', regr.intercept_)"
   ]
  },
  {
   "cell_type": "markdown",
   "metadata": {},
   "source": [
    "## Step 4: Predict the y value of the testing data from its x values"
   ]
  },
  {
   "cell_type": "code",
   "execution_count": null,
   "metadata": {},
   "outputs": [],
   "source": [
    "x_test = [p[:-1] for p in data_test]\n",
    "x3_test = [p[-1] for p in data_test]\n",
    "x3_pred = regr.predict(x_test)\n",
    "\n",
    "fig = pyplot.figure(2)\n",
    "ax = Axes3D(fig)\n",
    "\n",
    "x1_test = [p[0] for p in data_test]\n",
    "x2_test = [p[1] for p in data_test]\n",
    "ax.scatter(x1_test, x2_test, x3_test)\n",
    "ax.scatter(x1_test, x2_test, x3_pred, alpha=0.2)\n",
    "fig.show()"
   ]
  },
  {
   "cell_type": "markdown",
   "metadata": {},
   "source": [
    "## Step 5: Measure how far the predicted y values are from the real y values in the testing data set"
   ]
  },
  {
   "cell_type": "code",
   "execution_count": null,
   "metadata": {},
   "outputs": [],
   "source": [
    "from sklearn.metrics import mean_squared_error, r2_score\n",
    "\n",
    "mse = mean_squared_error(x3_test, x3_pred)\n",
    "r2score = r2_score(x3_test, x3_pred)\n",
    "print(\"Mean squared error: {:.2f}\".format(mse))\n",
    "print(\"R2 score: {:.2f}\".format(r2score))"
   ]
  }
 ],
 "metadata": {
  "kernelspec": {
   "display_name": "Python 3",
   "language": "python",
   "name": "python3"
  },
  "language_info": {
   "codemirror_mode": {
    "name": "ipython",
    "version": 3
   },
   "file_extension": ".py",
   "mimetype": "text/x-python",
   "name": "python",
   "nbconvert_exporter": "python",
   "pygments_lexer": "ipython3",
   "version": "3.6.4"
  }
 },
 "nbformat": 4,
 "nbformat_minor": 2
}
